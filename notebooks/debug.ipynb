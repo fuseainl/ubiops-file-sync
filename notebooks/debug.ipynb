{
 "cells": [
  {
   "cell_type": "code",
   "execution_count": null,
   "id": "80409085",
   "metadata": {},
   "outputs": [],
   "source": [
    "from pathlib import Path\n",
    "\n",
    "from ubiops import FileItem  # pyright: ignore[reportMissingTypeStubs]\n",
    "\n",
    "from ubiops_file_sync.downloader import download_file, download_from_bucket\n",
    "from ubiops_file_sync.uploader import upload_file, upload_to_bucket\n",
    "from ubiops_file_sync.watcher import shutdown, watch_local_and_upload\n"
   ]
  },
  {
   "cell_type": "code",
   "execution_count": 10,
   "id": "38c98f7c",
   "metadata": {},
   "outputs": [
    {
     "name": "stderr",
     "output_type": "stream",
     "text": [
      "Downloading sample/backup/fuseai-deployments.md: 100%|██████████| 540/540 [00:00<00:00, 2.52MB/s]\n",
      "INFO:ubiops_file_sync.downloader:Downloaded data/fuseai-deployments.md from test/sample/backup/fuseai-deployments.md\n"
     ]
    }
   ],
   "source": [
    "remote_file = FileItem(file=\"fuseai-deployments.md\")\n",
    "download_file(remote_file)"
   ]
  },
  {
   "cell_type": "code",
   "execution_count": 2,
   "id": "cb981659",
   "metadata": {},
   "outputs": [
    {
     "name": "stderr",
     "output_type": "stream",
     "text": [
      "INFO:ubiops_file_sync.downloader:Downloading all files from bucket 'test'/sample/backup to local folder tests/input\n",
      "Downloading sample/backup/another_stub.txt: 100%|██████████| 29.0/29.0 [00:00<00:00, 183kB/s]\n",
      "Downloading sample/backup/stub.txt: 100%|██████████| 20.0/20.0 [00:00<00:00, 178kB/s]\n",
      "Downloading sample/backup/random.json: 100%|██████████| 25.0/25.0 [00:00<00:00, 157kB/s]\n",
      "Downloading sample/backup/fuseai-deployments.md: 100%|██████████| 540/540 [00:00<00:00, 3.07MB/s]\n",
      "INFO:ubiops_file_sync.downloader:Download completed.\n"
     ]
    }
   ],
   "source": [
    "download_from_bucket()"
   ]
  },
  {
   "cell_type": "code",
   "execution_count": 2,
   "id": "82e7ba62",
   "metadata": {},
   "outputs": [
    {
     "name": "stderr",
     "output_type": "stream",
     "text": [
      "Uploading sample/backup/random.json: 100%|██████████| 25.0/25.0 [00:00<00:00, 105B/s]\n",
      "INFO:ubiops_file_sync.uploader:Uploaded data/random.json to test/sample/backup/random.json\n"
     ]
    }
   ],
   "source": [
    "upload_file(local_path=Path(\"data/random.json\"))"
   ]
  },
  {
   "cell_type": "code",
   "execution_count": 2,
   "id": "228f6bc3",
   "metadata": {},
   "outputs": [
    {
     "name": "stderr",
     "output_type": "stream",
     "text": [
      "INFO:ubiops_file_sync.uploader:Uploading all files from local folder tests/input to bucket 'test'/sample/backup\n",
      "Uploading sample/backup/another_stub.txt: 100%|██████████| 29.0/29.0 [00:00<00:00, 116B/s]\n",
      "Uploading sample/backup/stub.txt: 100%|██████████| 20.0/20.0 [00:00<00:00, 78.5B/s]\n",
      "INFO:ubiops_file_sync.uploader:Upload completed.\n"
     ]
    }
   ],
   "source": [
    "upload_to_bucket()"
   ]
  },
  {
   "cell_type": "code",
   "execution_count": 11,
   "id": "3c636623",
   "metadata": {},
   "outputs": [
    {
     "data": {
      "text/plain": [
       "('tests', 'output', 'stub.txt')"
      ]
     },
     "execution_count": 11,
     "metadata": {},
     "output_type": "execute_result"
    }
   ],
   "source": [
    "p = Path(\"tests/output/stub.txt\")\n",
    "p.parts"
   ]
  },
  {
   "cell_type": "code",
   "execution_count": 3,
   "id": "d0afad3b",
   "metadata": {},
   "outputs": [
    {
     "name": "stderr",
     "output_type": "stream",
     "text": [
      "INFO:ubiops_file_sync.watcher:Started watching folder tests/input for changes\n"
     ]
    },
    {
     "name": "stderr",
     "output_type": "stream",
     "text": [
      "INFO:ubiops_file_sync.watcher:Detected new or modified file: tests/input/Kier.jpg\n",
      "Uploading sample/backup/Kier.jpg: 100%|██████████| 41.8k/41.8k [00:00<00:00, 116kB/s] \n",
      "INFO:ubiops_file_sync.uploader:Uploaded tests/input/Kier.jpg to test/sample/backup/Kier.jpg\n",
      "INFO:ubiops_file_sync.watcher:Detected new or modified file: tests/input/image.png\n",
      "Uploading sample/backup/image.png: 100%|██████████| 123k/123k [00:00<00:00, 441kB/s]  \n",
      "INFO:ubiops_file_sync.uploader:Uploaded tests/input/image.png to test/sample/backup/image.png\n"
     ]
    }
   ],
   "source": [
    "watch_local_and_upload()"
   ]
  },
  {
   "cell_type": "code",
   "execution_count": 5,
   "id": "fb88d346",
   "metadata": {},
   "outputs": [
    {
     "name": "stderr",
     "output_type": "stream",
     "text": [
      "INFO:ubiops_file_sync.watcher:Shutting down file sync watcher...\n",
      "INFO:ubiops_file_sync.watcher:File sync watcher stopped.\n"
     ]
    }
   ],
   "source": [
    "shutdown()"
   ]
  }
 ],
 "metadata": {
  "kernelspec": {
   "display_name": ".venv",
   "language": "python",
   "name": "python3"
  },
  "language_info": {
   "codemirror_mode": {
    "name": "ipython",
    "version": 3
   },
   "file_extension": ".py",
   "mimetype": "text/x-python",
   "name": "python",
   "nbconvert_exporter": "python",
   "pygments_lexer": "ipython3",
   "version": "3.13.5"
  }
 },
 "nbformat": 4,
 "nbformat_minor": 5
}
