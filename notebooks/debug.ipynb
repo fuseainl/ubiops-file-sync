{
 "cells": [
  {
   "cell_type": "code",
   "execution_count": null,
   "id": "80409085",
   "metadata": {},
   "outputs": [],
   "source": [
    "from pathlib import Path\n",
    "\n",
    "from ubiops import FileItem  # pyright: ignore[reportMissingTypeStubs]\n",
    "\n",
    "from ubiops_file_sync.downloader import download_file, download_from_bucket\n",
    "from ubiops_file_sync.uploader import upload_file, upload_to_bucket\n",
    "from ubiops_file_sync.watcher import shutdown, watch_local_and_upload\n"
   ]
  },
  {
   "cell_type": "code",
   "execution_count": null,
   "id": "38c98f7c",
   "metadata": {},
   "outputs": [],
   "source": [
    "remote_file = FileItem(file=\"stub.txt\")\n",
    "download_file(remote_file)"
   ]
  },
  {
   "cell_type": "code",
   "execution_count": null,
   "id": "cb981659",
   "metadata": {},
   "outputs": [],
   "source": [
    "download_from_bucket()"
   ]
  },
  {
   "cell_type": "code",
   "execution_count": null,
   "id": "82e7ba62",
   "metadata": {},
   "outputs": [],
   "source": [
    "upload_file(local_path=Path(\"tests/input/another_stub.txt\"))"
   ]
  },
  {
   "cell_type": "code",
   "execution_count": null,
   "id": "228f6bc3",
   "metadata": {},
   "outputs": [],
   "source": [
    "upload_to_bucket()"
   ]
  },
  {
   "cell_type": "code",
   "execution_count": null,
   "id": "d0afad3b",
   "metadata": {},
   "outputs": [],
   "source": [
    "watch_local_and_upload()"
   ]
  },
  {
   "cell_type": "code",
   "execution_count": null,
   "id": "fb88d346",
   "metadata": {},
   "outputs": [],
   "source": [
    "shutdown()"
   ]
  }
 ],
 "metadata": {
  "kernelspec": {
   "display_name": ".venv",
   "language": "python",
   "name": "python3"
  },
  "language_info": {
   "codemirror_mode": {
    "name": "ipython",
    "version": 3
   },
   "file_extension": ".py",
   "mimetype": "text/x-python",
   "name": "python",
   "nbconvert_exporter": "python",
   "pygments_lexer": "ipython3",
   "version": "3.13.5"
  }
 },
 "nbformat": 4,
 "nbformat_minor": 5
}
